{
 "cells": [
  {
   "cell_type": "markdown",
   "id": "2222e0db-36e2-4ad8-ac36-f2efb55dbce4",
   "metadata": {},
   "source": [
    "# Название проекта: Определение жанра по изображению обложки музыкального диска\n",
    "\n",
    "**Описание проекта**\n",
    "<br>Необходимо разработать модель, которая определит жанр музыкального альбома по изображению его обложки\n",
    "\n",
    "**Цель проекта**\n",
    "<br>Необходимо разработать модель, которая определит жанр музыкального альбома по изображению его обложки\n",
    "\n",
    "**Метрики**: `Accuracy`, `Precision`, `Recall`, `F1`\n",
    "\n",
    "**Данные**\n",
    "<br>Изображения в формате PNG, упакованные в zip-архивы. \n",
    "<br>Имя архива соответствует музыкальному жанру.\n",
    "<br>Каждый zip-архив содержит папку с изображениями музыкальных обложек соответствующего жанра.\n",
    "\n",
    "**Дополнительные задачи**\n",
    "- **Кластеризация**: исследовать, какие жанры лучше выделяются на фоне других, а какие – трудноразделимы.\n",
    "- **API MusicBrainz**: расширение датасета новыми изображениями. Можно расширить список жанров и использовать обратную сторону обложки.\n",
    "- **OCR + NLP**: извлечь текст из изображения и обогатить решение применением NLP.\n",
    "- **Создание рекомендательной системы** в миниатюре, опираясь на изображения.\n",
    "- **Streamlit**: оформить классификатор жанров или рекомендательную систему в виде веб-приложения.\n",
    "\n",
    "**Ход исследования**\n",
    "- Ознакомление с данными;\n",
    "- Предварительная обработка данных;\n",
    "- Определение целевой метрики;\n",
    "- Подготовка данных для baseline-модели;\n",
    "- Создание baseline-модели;\n",
    "- Расчет метрик;\n",
    "- Подготовка данных для нейронной сети;\n",
    "- Обучение нейронной сети;\n",
    "- Расчет и сравнение метрик;\n",
    "- Анализ финальной модели;\n",
    "- Исследование/решение дополнительных задач;\n",
    "- Подготовка отчета по исследованию."
   ]
  },
  {
   "cell_type": "markdown",
   "id": "20c06139-acc8-43d2-a2ac-0e49838e70fd",
   "metadata": {},
   "source": [
    "Настройка среды"
   ]
  },
  {
   "cell_type": "code",
   "execution_count": null,
   "id": "46a1241b-2c6e-4248-af38-29e5f56a9b0d",
   "metadata": {},
   "outputs": [],
   "source": []
  },
  {
   "cell_type": "markdown",
   "id": "31ca26d2-5a74-4647-a765-4cf3e9aa4e1b",
   "metadata": {},
   "source": [
    "Установка глобальных переменных"
   ]
  },
  {
   "cell_type": "code",
   "execution_count": 1,
   "id": "7988ece9-efab-44a6-9b80-3cf646245b20",
   "metadata": {},
   "outputs": [],
   "source": [
    "RANDOM_STATE = 42"
   ]
  },
  {
   "cell_type": "markdown",
   "id": "c507f728-e8e6-4890-a4cc-4ecbca3e2420",
   "metadata": {},
   "source": [
    "## Знакомство с данными"
   ]
  },
  {
   "cell_type": "code",
   "execution_count": null,
   "id": "4b46bf48-f3ff-48db-ad2a-64fa110abb91",
   "metadata": {},
   "outputs": [],
   "source": []
  },
  {
   "cell_type": "code",
   "execution_count": null,
   "id": "3f6b61fc-43ec-4433-8431-cd35d6cd9b7a",
   "metadata": {},
   "outputs": [],
   "source": []
  },
  {
   "cell_type": "code",
   "execution_count": null,
   "id": "197c7257-2674-4d64-b5c9-39fdb592d39d",
   "metadata": {},
   "outputs": [],
   "source": []
  },
  {
   "cell_type": "code",
   "execution_count": null,
   "id": "98eb4654-c070-4c4d-8bde-8713c456c2db",
   "metadata": {},
   "outputs": [],
   "source": []
  },
  {
   "cell_type": "code",
   "execution_count": null,
   "id": "72dc3198-784a-439c-8d2d-6ccefcdbf245",
   "metadata": {},
   "outputs": [],
   "source": []
  },
  {
   "cell_type": "code",
   "execution_count": null,
   "id": "1c0f5e2d-18b7-4609-af37-11a853ff1eda",
   "metadata": {},
   "outputs": [],
   "source": []
  },
  {
   "cell_type": "code",
   "execution_count": null,
   "id": "fcf2f944-915a-4843-aca9-14f587f5839b",
   "metadata": {},
   "outputs": [],
   "source": []
  }
 ],
 "metadata": {
  "kernelspec": {
   "display_name": "Python 3 (ipykernel)",
   "language": "python",
   "name": "python3"
  },
  "language_info": {
   "codemirror_mode": {
    "name": "ipython",
    "version": 3
   },
   "file_extension": ".py",
   "mimetype": "text/x-python",
   "name": "python",
   "nbconvert_exporter": "python",
   "pygments_lexer": "ipython3",
   "version": "3.10.12"
  }
 },
 "nbformat": 4,
 "nbformat_minor": 5
}
